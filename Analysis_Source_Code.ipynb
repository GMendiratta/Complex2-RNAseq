{
 "cells": [
  {
   "cell_type": "code",
   "execution_count": 1,
   "id": "305b13cd",
   "metadata": {},
   "outputs": [],
   "source": [
    "# import python libraries\n",
    "import os\n",
    "import numpy as np\n",
    "import pandas as pd\n",
    "from IPython.display import clear_output"
   ]
  },
  {
   "cell_type": "code",
   "execution_count": 2,
   "id": "ae05f12a",
   "metadata": {},
   "outputs": [],
   "source": [
    "cwd=os.getcwd() # update location if all files from github not stored in same location as this file.\n",
    "cwd_data=os.path.join(cwd,'seq_studies_data')\n",
    "cwd_interim=os.path.join(cwd,'interim_files/')\n",
    "cwd_results_RNA=os.path.join(cwd,'Results') # where results will be stored"
   ]
  },
  {
   "cell_type": "code",
   "execution_count": 3,
   "id": "26d34aca",
   "metadata": {},
   "outputs": [],
   "source": [
    "# Define Useful Functions \n",
    "setlen=lambda x:len(set(x)) # Calculate length of set of a list.\n",
    "\n",
    "# Read in genes of interest in complex 2\n",
    "with open(os.path.join(cwd,'genelists','C2_genes.txt')) as fc:\n",
    "    list_C2=fc.read()\n",
    "    list_C2=list_C2.split(',')\n",
    "with open(os.path.join(cwd,'genelists','MHC1_antigen_genelist.txt')) as fc:\n",
    "    list_MHC=fc.read()\n",
    "    list_MHC=list_MHC.split(',')\n",
    "list_outputGenes=list_MHC # update as necessary for a different gene list\n",
    "\n",
    "def FindDataFile(ftype,prefix=None,inppath=None,secondary=None):\n",
    "    \"\"\"\n",
    "    This function inputs a keyword such as 'sample'/ 'patient'/'mutations' as input and returns corresponding filename if a file with the keyword and the word 'data' in it's name is present.\n",
    "    \\nReturns False if no such file is preset in current working folder. \n",
    "    \\nThis function exists because studies have two kinds of naming conventions for data files and not all folders contain clinical_patient data.\n",
    "    \"\"\"\n",
    "    if inppath==None:\n",
    "        list_all_files=os.listdir()\n",
    "    else:\n",
    "        list_all_files=os.listdir(inppath)\n",
    "    if prefix == None:\n",
    "        prefix='data'\n",
    "#     list_all_files=os.listdir()\n",
    "    fname=[]\n",
    "    if secondary is None:\n",
    "        for row in list_all_files:\n",
    "            if (ftype.lower() in row.lower()) and (prefix in row.lower()):\n",
    "                fname=fname+[row]\n",
    "        if len(fname)>1:\n",
    "            if 'data_mutations.txt' in fname:\n",
    "                return 'data_mutations.txt' # kind of poor man's file name handling due to constantly evolving and sometimes inconsistent naming conventions in cbioportal database\n",
    "            elif 'data_mutations_extended.txt' in fname:\n",
    "                return 'data_mutations_extended.txt'\n",
    "            else:\n",
    "                return fname\n",
    "        if len(fname)==1:\n",
    "            return fname[0]\n",
    "        else:\n",
    "            return False\n",
    "    else:\n",
    "        for row in list_all_files:\n",
    "            keywords=[prefix,ftype]+([secondary] if type(secondary)==str else secondary)\n",
    "            keyword_logic=[istr.lower() in row.lower()  for istr in keywords]\n",
    "            if all(keyword_logic):\n",
    "                fname=fname+[row]\n",
    "        if len(fname)>1:\n",
    "            return fname\n",
    "        if len(fname)==1:\n",
    "            return fname[0]\n",
    "        else:\n",
    "            return False"
   ]
  },
  {
   "cell_type": "markdown",
   "id": "c22e850d",
   "metadata": {},
   "source": [
    "#### SKIN"
   ]
  },
  {
   "cell_type": "code",
   "execution_count": 4,
   "id": "0c8fdc50",
   "metadata": {},
   "outputs": [],
   "source": [
    "studies_skin=['mel_dfci_2019','mel_tsam_liang_2017', 'mel_ucla_2016', 'skcm_tcga', 'skcm_tcga_pan_can_atlas_2018', 'skcm_dfci_2015', 'skcm_mskcc_2014'] # manually curated to remove cell lines and any non-applicable studies"
   ]
  },
  {
   "cell_type": "code",
   "execution_count": 22,
   "id": "38431c68",
   "metadata": {
    "scrolled": true
   },
   "outputs": [
    {
     "name": "stdout",
     "output_type": "stream",
     "text": [
      "Study Number  1  done: mel_dfci_2019 Nsamples: 123 RNAseq file data_RNA_Seq_expression_tpm_all_sample_Zscores.txt.gz\n",
      "Study Number  2  done: mel_tsam_liang_2017 Nsamples: 37 \n",
      "RNAseq file data_RNA_Seq_mRNA_median_all_sample_Zscores.txt.gz\n",
      "Study Number  3  done: mel_ucla_2016 Nsamples: 28 \n",
      "RNAseq file data_RNA_Seq_mRNA_median_all_sample_Zscores.txt.gz\n",
      "Study Number  4  done: skcm_tcga Nsamples: 474 RNAseq file data_RNA_Seq_v2_mRNA_median_all_sample_Zscores.txt.gz\n",
      "Study Number  5  done: skcm_tcga_pan_can_atlas_2018 Nsamples: 445 RNAseq file data_RNA_Seq_v2_mRNA_median_all_sample_Zscores.txt.gz\n",
      "Study Number  6  done: skcm_dfci_2015 Nsamples: 41 \n",
      "RNAseq file data_RNA_Seq_mRNA_median_all_sample_Zscores.txt.gz\n",
      "Study Number  7  done: skcm_mskcc_2014 Nsamples: 22 \n",
      "RNAseq file data_RNA_Seq_mRNA_median_all_sample_Zscores.txt.gz\n",
      "Wall time: 3min 32s\n"
     ]
    }
   ],
   "source": [
    "%%time\n",
    "#ImportRNAseq data\n",
    "geneslist=list_C2 # genes, at least one among which must be sequenced in a study to be included\n",
    "nohugosymbol=[] # count files without gene labels - there is a code to map ensemble codes, if present, to hugo_symbols\n",
    "nodata=[] # count files with RNAseq data but no modifications in list of included genes.\n",
    "iter1=0\n",
    "list_RNAdata_skin=[]\n",
    "for idir in studies_skin:\n",
    "    iter1+=1 # count study numbers\n",
    "    iurl=os.path.join(cwd_data,idir)\n",
    "    fnames=FindDataFile(ftype='RNA',inppath=iurl,secondary=['all_sample','zscore'])\n",
    "    if (type(fnames) is not str) and (type(fnames) is not bool):\n",
    "        fnames=[row for row in fnames if 'v2' in row.lower()] # if both RNA seq and seq v2 present, choose v2\n",
    "        if len(fnames)>1:\n",
    "            fnames=[row for row in fnames if 'normal' in row.lower()] # if data with ref samples and ref normal present, use ref normal.\n",
    "        fname=fnames[0] if (len(fnames) <= 1) else fnames # this will create an error when there are several files with the name searched in the command above    \n",
    "    else:\n",
    "        fname=fnames\n",
    "    # Import RNAseq files when present:\n",
    "    if fname:\n",
    "        df_RNAseqdata=pd.read_csv(os.path.join(iurl,fname),sep='\\t',dtype=str)\n",
    "        # Extract only the lines which contain an expression level change in the genes of interest\n",
    "        if 'Hugo_Symbol' in df_RNAseqdata.columns:\n",
    "            df_RNAseqdata['Study_ID']=idir\n",
    "            df_RNAseqdata=df_RNAseqdata.loc[df_RNAseqdata.Hugo_Symbol!=''] # remove unlabelled genes\n",
    "            list_RNAdata_skin=list_RNAdata_skin+[df_RNAseqdata]#.loc[df_RNAseqdata.Hugo_Symbol.isin(geneslist)]]\n",
    "            print('Study Number ',iter1,' done:', idir,'Nsamples:',len(df_RNAseqdata.columns)-1,'RNAseq file',fnames)# track progress in case of errors.\n",
    "        elif 'Entrez_Gene_Id' in df_RNAseqdata.columns:\n",
    "            # Convert From Entrez gene ID to Hugo_Symbol from same folder\n",
    "            fname_CNA=FindDataFile(ftype='data_CNA.txt',inppath=iurl)\n",
    "            df_Hug2Entrz=pd.read_csv(os.path.join(iurl,fname_CNA),sep='\\t',dtype=str)\n",
    "            df_Hug2Entrz=df_Hug2Entrz.loc[df_Hug2Entrz.Hugo_Symbol!='']\n",
    "            Entrz2Hugo=lambda entr:df_Hug2Entrz[df_Hug2Entrz.Entrez_Gene_Id==entr].Hugo_Symbol.iloc[0] if entr in df_Hug2Entrz.Entrez_Gene_Id.values else ''\n",
    "            df_RNAseqdata=df_RNAseqdata.loc[df_RNAseqdata.Entrez_Gene_Id!=''] # remove unlabelled genes\n",
    "            df_RNAseqdata['Hugo_Symbol']=[Entrz2Hugo(irow) for irow in df_RNAseqdata.Entrez_Gene_Id]\n",
    "            df_RNAseqdata=df_RNAseqdata.loc[df_RNAseqdata.Hugo_Symbol!=''] # remove unlabelled genes\n",
    "            df_RNAseqdata['Study_ID']=idir\n",
    "            list_RNAdata_skin=list_RNAdata_skin+[df_RNAseqdata]#.loc[df_RNAseqdata.Hugo_Symbol.isin(geneslist)]]\n",
    "            print('Study Number ',iter1,' done:', idir,'Nsamples:',len(df_RNAseqdata.columns)-2,'\\nRNAseq file',fnames)# track progress in case of errors.            \n",
    "#         del df_RNAseqdata\n",
    "#         clear_output()\n",
    "    else:\n",
    "        print('No seq file',iter1,idir,fnames)"
   ]
  },
  {
   "cell_type": "code",
   "execution_count": 26,
   "id": "4516b2ea",
   "metadata": {},
   "outputs": [],
   "source": [
    "geneslist=list_C2+list_MHC\n",
    "df_RNA_skin=pd.DataFrame(columns=geneslist)\n",
    "dic_RNA_skin=dict()\n",
    "for idf in list_RNAdata_skin:\n",
    "    if 'Entrez_Gene_Id' in idf.columns:\n",
    "        idf1=idf.drop(columns=['Entrez_Gene_Id','Study_ID']).set_index('Hugo_Symbol').astype(float).groupby(by='Hugo_Symbol').mean().transpose()\n",
    "    else:\n",
    "        idf1=idf.drop(columns=['Study_ID']).set_index('Hugo_Symbol').astype(float).groupby(by='Hugo_Symbol').mean().transpose()\n",
    "    idf1=idf1.dropna(how='all',axis='columns')\n",
    "    dic_RNA_skin[idf.Study_ID.iloc[0]]=idf1\n",
    "    geneslist=[igene for igene in geneslist if igene in idf1.columns]\n",
    "    df_RNA_skin=pd.concat([df_RNA_skin,idf1[geneslist]])"
   ]
  },
  {
   "cell_type": "code",
   "execution_count": 29,
   "id": "49f6f2d0",
   "metadata": {},
   "outputs": [
    {
     "name": "stderr",
     "output_type": "stream",
     "text": [
      "C:\\Users\\GM\\anaconda3\\lib\\site-packages\\pandas\\core\\frame.py:3607: SettingWithCopyWarning: \n",
      "A value is trying to be set on a copy of a slice from a DataFrame.\n",
      "Try using .loc[row_indexer,col_indexer] = value instead\n",
      "\n",
      "See the caveats in the documentation: https://pandas.pydata.org/pandas-docs/stable/user_guide/indexing.html#returning-a-view-versus-a-copy\n",
      "  self._set_item(key, value)\n"
     ]
    }
   ],
   "source": [
    "# output individual study data for C2 and MHC genes\n",
    "if not os.path.isdir(os.path.join(cwd_results_RNA,'Skin')):\n",
    "    os.mkdir(os.path.join(cwd_results_RNA,'Skin'))\n",
    "for istudy in dic_RNA_skin.keys():\n",
    "    for igene in list_C2:\n",
    "        if igene in dic_RNA_skin[istudy].columns.values:\n",
    "            genelist=[igene]+[g1 for g1 in list_outputGenes if g1 in dic_RNA_skin[istudy].columns.values]\n",
    "            df_istudy=dic_RNA_skin[istudy][genelist]\n",
    "            df_RNA_istudy_describe=df_istudy[igene].describe()\n",
    "            def quarter1(x):\n",
    "                if x<=df_RNA_istudy_describe.loc['25%']:\n",
    "                    return('Low_quart')\n",
    "                if x>=df_RNA_istudy_describe.loc['75%']:\n",
    "                    return('Up_quart')\n",
    "                else:\n",
    "                    return(None)\n",
    "            df_istudy['quart']=df_istudy[igene].apply(quarter1)\n",
    "            fname_file='ByStudy_RNA_Zscores_SKIN_'+istudy+'_quartile_'+igene+'.xlsx'\n",
    "            (df_istudy.sort_values(by=['quart'])).to_excel(os.path.join(cwd_results_RNA,'Skin',fname_file))"
   ]
  },
  {
   "cell_type": "code",
   "execution_count": 49,
   "id": "0eed8660",
   "metadata": {},
   "outputs": [],
   "source": [
    "# output individual study data for ALL genes\n",
    "if not os.path.isdir(os.path.join(cwd_results_RNA,'Skin_GSEA')):\n",
    "    os.mkdir(os.path.join(cwd_results_RNA,'Skin_GSEA'))\n",
    "for istudy in dic_RNA_skin.keys():\n",
    "    for igene in list_C2:\n",
    "        if igene in dic_RNA_skin[istudy].columns.values:\n",
    "            genelist=dic_RNA_skin[istudy].columns.values.tolist()\n",
    "            df_istudy=dic_RNA_skin[istudy][genelist]\n",
    "            df_RNA_istudy_describe=df_istudy[igene].describe()\n",
    "            def quarter1(x):\n",
    "                if x<=df_RNA_istudy_describe.loc['25%']:\n",
    "                    return('Low_quart')\n",
    "                if x>=df_RNA_istudy_describe.loc['75%']:\n",
    "                    return('Up_quart')\n",
    "                else:\n",
    "                    return(None)\n",
    "            df_istudy['quart']=df_istudy[igene].apply(quarter1)\n",
    "            fname_file='ByStudy_RNA_Zscores_SKIN_'+istudy+'_quartile_'+igene+'.csv'\n",
    "            columnsreset=['quart',igene]+[ig for ig in df_istudy.columns if (ig!='quart' and ig!=igene)]\n",
    "            (df_istudy[columnsreset].sort_values(by=['quart'])).to_csv(os.path.join(cwd_results_RNA,'Skin_GSEA',fname_file),sep='\\t',index=True)"
   ]
  },
  {
   "cell_type": "code",
   "execution_count": 50,
   "id": "0d7cea32",
   "metadata": {},
   "outputs": [],
   "source": [
    "# specialized handling of redundant values: remove any lines of redundancies where one of the needed genes are not measured. \n",
    "# Then take the first one available. <<This ensures only synchronized and simultaneous sample measurements are correlated.>>\n",
    "redundantPIDlist=[pid for pid in set(df_RNA_skin.index) if sum(df_RNA_skin.index==pid)>1]\n",
    "df_RNA_skin1=df_RNA_skin[list_C2+list_outputGenes].loc[[pid for pid in set(df_RNA_skin.index) if pid not in redundantPIDlist]]\n",
    "for pid in redundantPIDlist:\n",
    "    dfpid=df_RNA_skin[list_C2+list_outputGenes].loc[pid]\n",
    "    dfpid.dropna(inplace=True)\n",
    "    if len(dfpid)>=1:\n",
    "        df_RNA_skin1=df_RNA_skin1.append(dfpid.iloc[[0]])"
   ]
  },
  {
   "cell_type": "code",
   "execution_count": 51,
   "id": "fe5a7201",
   "metadata": {},
   "outputs": [],
   "source": [
    "df_RNA_skin1.to_excel(os.path.join(cwd_results_RNA,'RNA_Zscores_SKIN_7studies.xlsx'))"
   ]
  },
  {
   "cell_type": "markdown",
   "id": "5b0527b5",
   "metadata": {},
   "source": [
    "#### BREAST"
   ]
  },
  {
   "cell_type": "code",
   "execution_count": 4,
   "id": "9e2e013e",
   "metadata": {},
   "outputs": [],
   "source": [
    " # manually curated to remove cell lines and any non-applicable studies\n",
    "studies_Breast=['brca_tcga_pan_can_atlas_2018','brca_tcga_pub2015', 'brca_metabric', 'brca_cptac_2020', 'brca_tcga_pub', 'brca_tcga', 'brca_smc_2018']"
   ]
  },
  {
   "cell_type": "code",
   "execution_count": 5,
   "id": "7b7ea7d1",
   "metadata": {
    "scrolled": true
   },
   "outputs": [
    {
     "name": "stdout",
     "output_type": "stream",
     "text": [
      "Study Number  1  done: brca_tcga_pan_can_atlas_2018 Nsamples: 1084 RNAseq file ['data_RNA_Seq_v2_mRNA_median_all_sample_ref_normal_Zscores.txt.gz']\n",
      "Study Number  2  done: brca_tcga_pub2015 Nsamples: 819 RNAseq file ['data_RNA_Seq_v2_mRNA_median_all_sample_Zscores.txt.gz']\n",
      "Study Number  3  done: brca_metabric Nsamples: 1906 RNAseq file data_mRNA_median_all_sample_Zscores.txt.gz\n",
      "Study Number  4  done: brca_cptac_2020 Nsamples: 123 RNAseq file data_mrna_seq_fpkm_zscores_ref_all_samples.txt.gz\n",
      "Study Number  5  done: brca_tcga_pub Nsamples: 528 RNAseq file data_mRNA_median_all_sample_Zscores.txt.gz\n",
      "Study Number  6  done: brca_tcga Nsamples: 1102 RNAseq file ['data_RNA_Seq_v2_mRNA_median_all_sample_Zscores.txt.gz']\n",
      "Study Number  7  done: brca_smc_2018 Nsamples: 170 RNAseq file data_RNA_Seq_expression_tpm_all_sample_Zscores.txt.gz\n",
      "Wall time: 1min 10s\n"
     ]
    }
   ],
   "source": [
    "%%time\n",
    "#ImportRNAseq data\n",
    "geneslist=list_C2 # genes, at least one among which must be sequenced in a study to be included\n",
    "nohugosymbol=[] # count files without gene labels - there is a code to map ensemble codes, if present, to hugo_symbols\n",
    "nodata=[] # count files with RNAseq data but no modifications in list of included genes.\n",
    "iter1=0\n",
    "list_RNAdata_Breast=[]\n",
    "for idir in studies_Breast:\n",
    "    iter1+=1 # count study numbers\n",
    "    iurl=os.path.join(cwd_data,idir)\n",
    "    fnames=FindDataFile(ftype='RNA',inppath=iurl,secondary=['all_sample','zscore'])\n",
    "    if (type(fnames) is not str) and (type(fnames) is not bool):\n",
    "        fnames=[row for row in fnames if 'v2' in row.lower()] # if both RNA seq and seq v2 present, choose v2\n",
    "        if len(fnames)>1:\n",
    "            fnames=[row for row in fnames if 'normal' in row.lower()] # if data with ref samples and ref normal present, use ref normal.\n",
    "        fname=fnames[0] if (len(fnames) <= 1) else fnames # this will create an error when there are several files with the name searched in the command above    \n",
    "    else:\n",
    "        fname=fnames\n",
    "    # Import RNAseq files when present:\n",
    "    if fname:\n",
    "        df_RNAseqdata=pd.read_csv(os.path.join(iurl,fname),sep='\\t',dtype=str)\n",
    "        # Extract only the lines which contain an expression level change in the genes of interest\n",
    "        if 'Hugo_Symbol' in df_RNAseqdata.columns:\n",
    "            df_RNAseqdata['Study_ID']=idir\n",
    "            df_RNAseqdata=df_RNAseqdata.loc[df_RNAseqdata.Hugo_Symbol!=''] # remove unlabelled genes\n",
    "            list_RNAdata_Breast=list_RNAdata_Breast+[df_RNAseqdata]#.loc[df_RNAseqdata.Hugo_Symbol.isin(geneslist)]]\n",
    "            print('Study Number ',iter1,' done:', idir,'Nsamples:',len(df_RNAseqdata.columns)-1,'RNAseq file',fnames)# track progress in case of errors.\n",
    "        elif 'Entrez_Gene_Id' in df_RNAseqdata.columns:\n",
    "            # Convert From Entrez gene ID to Hugo_Symbol from same folder\n",
    "            fname_CNA=FindDataFile(ftype='data_CNA.txt',inppath=iurl)\n",
    "            df_Hug2Entrz=pd.read_csv(os.path.join(iurl,fname_CNA),sep='\\t',dtype=str)\n",
    "            df_Hug2Entrz=df_Hug2Entrz.loc[df_Hug2Entrz.Hugo_Symbol!='']\n",
    "            Entrz2Hugo=lambda entr:df_Hug2Entrz[df_Hug2Entrz.Entrez_Gene_Id==entr].Hugo_Symbol.iloc[0] if entr in df_Hug2Entrz.Entrez_Gene_Id.values else ''\n",
    "            df_RNAseqdata=df_RNAseqdata.loc[df_RNAseqdata.Entrez_Gene_Id!=''] # remove unlabelled genes\n",
    "            df_RNAseqdata['Hugo_Symbol']=[Entrz2Hugo(irow) for irow in df_RNAseqdata.Entrez_Gene_Id]\n",
    "            df_RNAseqdata=df_RNAseqdata.loc[df_RNAseqdata.Hugo_Symbol!=''] # remove unlabelled genes\n",
    "            df_RNAseqdata['Study_ID']=idir\n",
    "            list_RNAdata_Breast=list_RNAdata_Breast+[df_RNAseqdata]#.loc[df_RNAseqdata.Hugo_Symbol.isin(geneslist)]]\n",
    "            print('Study Number ',iter1,' done:', idir,'Nsamples:',len(df_RNAseqdata.columns)-2,'\\nRNAseq file',fnames)# track progress in case of errors.            \n",
    "#         del df_RNAseqdata\n",
    "#         clear_output()\n",
    "    else:\n",
    "        print('No seq file',iter1,idir,fnames)"
   ]
  },
  {
   "cell_type": "code",
   "execution_count": 6,
   "id": "f0454c7a",
   "metadata": {},
   "outputs": [],
   "source": [
    "# clean up data to enable quartile generation and comparison of gene expressions\n",
    "geneslist=list_C2+list_MHC\n",
    "df_RNA_Breast=pd.DataFrame(columns=geneslist)\n",
    "dic_RNA_Breast=dict()\n",
    "for idf in list_RNAdata_Breast:\n",
    "    if 'Entrez_Gene_Id' in idf.columns:\n",
    "        idf1=idf.drop(columns=['Entrez_Gene_Id','Study_ID']).set_index('Hugo_Symbol').astype(float).groupby(by='Hugo_Symbol').mean().transpose()\n",
    "    else:\n",
    "        idf1=idf.drop(columns=['Study_ID']).set_index('Hugo_Symbol').astype(float).groupby(by='Hugo_Symbol').mean().transpose()\n",
    "    idf1=idf1.dropna(how='all',axis='columns')\n",
    "    dic_RNA_Breast[idf.Study_ID.iloc[0]]=idf1\n",
    "    geneslist=[igene for igene in geneslist if igene in idf1.columns]\n",
    "    df_RNA_Breast=pd.concat([df_RNA_Breast,idf1[geneslist]])"
   ]
  },
  {
   "cell_type": "code",
   "execution_count": 7,
   "id": "41a1627a",
   "metadata": {},
   "outputs": [
    {
     "name": "stderr",
     "output_type": "stream",
     "text": [
      "C:\\Users\\GM\\anaconda3\\lib\\site-packages\\pandas\\core\\frame.py:3607: SettingWithCopyWarning: \n",
      "A value is trying to be set on a copy of a slice from a DataFrame.\n",
      "Try using .loc[row_indexer,col_indexer] = value instead\n",
      "\n",
      "See the caveats in the documentation: https://pandas.pydata.org/pandas-docs/stable/user_guide/indexing.html#returning-a-view-versus-a-copy\n",
      "  self._set_item(key, value)\n"
     ]
    }
   ],
   "source": [
    "# output individual study data for C2 and MHC genes\n",
    "if not os.path.isdir(os.path.join(cwd_results_RNA,'Breast')):\n",
    "    os.mkdir(os.path.join(cwd_results_RNA,'Breast'))\n",
    "for istudy in dic_RNA_Breast.keys():\n",
    "    for igene in list_C2:\n",
    "        if igene in dic_RNA_Breast[istudy].columns.values:\n",
    "            genelist=[igene]+[g1 for g1 in list_outputGenes if g1 in dic_RNA_Breast[istudy].columns.values]\n",
    "            df_istudy=dic_RNA_Breast[istudy][genelist]\n",
    "            df_RNA_istudy_describe=df_istudy[igene].describe()\n",
    "            def quarter1(x):\n",
    "                if x<=df_RNA_istudy_describe.loc['25%']:\n",
    "                    return('Low_quart')\n",
    "                if x>=df_RNA_istudy_describe.loc['75%']:\n",
    "                    return('Up_quart')\n",
    "                else:\n",
    "                    return(None)\n",
    "            df_istudy['quart']=df_istudy[igene].apply(quarter1)\n",
    "            fname_file='ByStudy_RNA_Zscores_Breast_'+istudy+'_quartile_'+igene+'.xlsx'\n",
    "            (df_istudy.sort_values(by=['quart'])).to_excel(os.path.join(cwd_results_RNA,'Breast',fname_file))"
   ]
  },
  {
   "cell_type": "code",
   "execution_count": 8,
   "id": "75dfd3ad",
   "metadata": {},
   "outputs": [],
   "source": [
    "# output individual study data for ALL genes\n",
    "if not os.path.isdir(os.path.join(cwd_results_RNA,'Breast_GSEA')):\n",
    "    os.mkdir(os.path.join(cwd_results_RNA,'Breast_GSEA'))\n",
    "for istudy in dic_RNA_Breast.keys():\n",
    "    for igene in list_C2:\n",
    "        if igene in dic_RNA_Breast[istudy].columns.values:\n",
    "            genelist=dic_RNA_Breast[istudy].columns.values.tolist()\n",
    "            df_istudy=dic_RNA_Breast[istudy][genelist]\n",
    "            df_RNA_istudy_describe=df_istudy[igene].describe()\n",
    "            def quarter1(x):\n",
    "                if x<=df_RNA_istudy_describe.loc['25%']:\n",
    "                    return('Low_quart')\n",
    "                if x>=df_RNA_istudy_describe.loc['75%']:\n",
    "                    return('Up_quart')\n",
    "                else:\n",
    "                    return(None)\n",
    "            df_istudy['quart']=df_istudy[igene].apply(quarter1)\n",
    "            fname_file='ByStudy_RNA_Zscores_Breast_'+istudy+'_quartile_'+igene+'.csv'\n",
    "            columnsreset=['quart',igene]+[ig for ig in df_istudy.columns if (ig!='quart' and ig!=igene)]\n",
    "            (df_istudy[columnsreset].sort_values(by=['quart'])).to_csv(os.path.join(cwd_results_RNA,'Breast_GSEA',fname_file),sep='\\t',index=True)"
   ]
  },
  {
   "cell_type": "code",
   "execution_count": 9,
   "id": "37661417",
   "metadata": {},
   "outputs": [],
   "source": [
    "# specialized handling of redundant values: remove any lines of redundancies where one of the needed genes are not measured. \n",
    "# Then take the first one available. <<This ensures only synchronized and simultaneous sample measurements are correlated.>>\n",
    "redundantPIDlist=[pid for pid in set(df_RNA_Breast.index) if sum(df_RNA_Breast.index==pid)>1]\n",
    "df_RNA_Breast1=df_RNA_Breast[list_C2+list_outputGenes].loc[[pid for pid in set(df_RNA_Breast.index) if pid not in redundantPIDlist]]\n",
    "for pid in redundantPIDlist:\n",
    "    dfpid=df_RNA_Breast[list_C2+list_outputGenes].loc[pid]\n",
    "    dfpid.dropna(inplace=True)\n",
    "    if len(dfpid)>=1:\n",
    "        df_RNA_Breast1=df_RNA_Breast1.append(dfpid.iloc[[0]])"
   ]
  },
  {
   "cell_type": "code",
   "execution_count": 10,
   "id": "e6682492",
   "metadata": {},
   "outputs": [],
   "source": [
    "df_RNA_Breast1.to_excel(os.path.join(cwd_results_RNA,'RNA_Zscores_Breast_7studies.xlsx'))"
   ]
  }
 ],
 "metadata": {
  "kernelspec": {
   "display_name": "Python 3 (ipykernel)",
   "language": "python",
   "name": "python3"
  },
  "language_info": {
   "codemirror_mode": {
    "name": "ipython",
    "version": 3
   },
   "file_extension": ".py",
   "mimetype": "text/x-python",
   "name": "python",
   "nbconvert_exporter": "python",
   "pygments_lexer": "ipython3",
   "version": "3.8.8"
  }
 },
 "nbformat": 4,
 "nbformat_minor": 5
}
